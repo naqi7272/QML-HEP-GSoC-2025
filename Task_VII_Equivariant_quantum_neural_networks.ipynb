{
  "nbformat": 4,
  "nbformat_minor": 0,
  "metadata": {
    "colab": {
      "provenance": []
    },
    "kernelspec": {
      "name": "python3",
      "display_name": "Python 3"
    },
    "language_info": {
      "name": "python"
    }
  },
  "cells": [
    {
      "cell_type": "code",
      "execution_count": null,
      "metadata": {
        "id": "3f3KtJ9WUzyV"
      },
      "outputs": [],
      "source": []
    },
    {
      "cell_type": "code",
      "source": [
        "!pip install pennylane"
      ],
      "metadata": {
        "colab": {
          "base_uri": "https://localhost:8080/"
        },
        "id": "UAQCg9T0WEcR",
        "outputId": "c8dad78c-15bf-47c7-f014-61fe3b127574"
      },
      "execution_count": 2,
      "outputs": [
        {
          "output_type": "stream",
          "name": "stdout",
          "text": [
            "Collecting pennylane\n",
            "  Downloading PennyLane-0.40.0-py3-none-any.whl.metadata (10 kB)\n",
            "Requirement already satisfied: numpy<2.1 in /usr/local/lib/python3.11/dist-packages (from pennylane) (2.0.2)\n",
            "Requirement already satisfied: scipy in /usr/local/lib/python3.11/dist-packages (from pennylane) (1.14.1)\n",
            "Requirement already satisfied: networkx in /usr/local/lib/python3.11/dist-packages (from pennylane) (3.4.2)\n",
            "Collecting rustworkx>=0.14.0 (from pennylane)\n",
            "  Downloading rustworkx-0.16.0-cp39-abi3-manylinux_2_17_x86_64.manylinux2014_x86_64.whl.metadata (10 kB)\n",
            "Requirement already satisfied: autograd in /usr/local/lib/python3.11/dist-packages (from pennylane) (1.7.0)\n",
            "Collecting tomlkit (from pennylane)\n",
            "  Downloading tomlkit-0.13.2-py3-none-any.whl.metadata (2.7 kB)\n",
            "Collecting appdirs (from pennylane)\n",
            "  Downloading appdirs-1.4.4-py2.py3-none-any.whl.metadata (9.0 kB)\n",
            "Collecting autoray>=0.6.11 (from pennylane)\n",
            "  Downloading autoray-0.7.1-py3-none-any.whl.metadata (5.8 kB)\n",
            "Requirement already satisfied: cachetools in /usr/local/lib/python3.11/dist-packages (from pennylane) (5.5.2)\n",
            "Collecting pennylane-lightning>=0.40 (from pennylane)\n",
            "  Downloading PennyLane_Lightning-0.40.0-cp311-cp311-manylinux_2_28_x86_64.whl.metadata (27 kB)\n",
            "Requirement already satisfied: requests in /usr/local/lib/python3.11/dist-packages (from pennylane) (2.32.3)\n",
            "Requirement already satisfied: typing-extensions in /usr/local/lib/python3.11/dist-packages (from pennylane) (4.13.0)\n",
            "Requirement already satisfied: packaging in /usr/local/lib/python3.11/dist-packages (from pennylane) (24.2)\n",
            "Collecting diastatic-malt (from pennylane)\n",
            "  Downloading diastatic_malt-2.15.2-py3-none-any.whl.metadata (2.6 kB)\n",
            "Collecting scipy-openblas32>=0.3.26 (from pennylane-lightning>=0.40->pennylane)\n",
            "  Downloading scipy_openblas32-0.3.29.0.0-py3-none-manylinux_2_17_x86_64.manylinux2014_x86_64.whl.metadata (56 kB)\n",
            "\u001b[2K     \u001b[90m━━━━━━━━━━━━━━━━━━━━━━━━━━━━━━━━━━━━━━━━\u001b[0m \u001b[32m56.1/56.1 kB\u001b[0m \u001b[31m2.6 MB/s\u001b[0m eta \u001b[36m0:00:00\u001b[0m\n",
            "\u001b[?25hRequirement already satisfied: astunparse in /usr/local/lib/python3.11/dist-packages (from diastatic-malt->pennylane) (1.6.3)\n",
            "Requirement already satisfied: gast in /usr/local/lib/python3.11/dist-packages (from diastatic-malt->pennylane) (0.6.0)\n",
            "Requirement already satisfied: termcolor in /usr/local/lib/python3.11/dist-packages (from diastatic-malt->pennylane) (2.5.0)\n",
            "Requirement already satisfied: charset-normalizer<4,>=2 in /usr/local/lib/python3.11/dist-packages (from requests->pennylane) (3.4.1)\n",
            "Requirement already satisfied: idna<4,>=2.5 in /usr/local/lib/python3.11/dist-packages (from requests->pennylane) (3.10)\n",
            "Requirement already satisfied: urllib3<3,>=1.21.1 in /usr/local/lib/python3.11/dist-packages (from requests->pennylane) (2.3.0)\n",
            "Requirement already satisfied: certifi>=2017.4.17 in /usr/local/lib/python3.11/dist-packages (from requests->pennylane) (2025.1.31)\n",
            "Requirement already satisfied: wheel<1.0,>=0.23.0 in /usr/local/lib/python3.11/dist-packages (from astunparse->diastatic-malt->pennylane) (0.45.1)\n",
            "Requirement already satisfied: six<2.0,>=1.6.1 in /usr/local/lib/python3.11/dist-packages (from astunparse->diastatic-malt->pennylane) (1.17.0)\n",
            "Downloading PennyLane-0.40.0-py3-none-any.whl (2.0 MB)\n",
            "\u001b[2K   \u001b[90m━━━━━━━━━━━━━━━━━━━━━━━━━━━━━━━━━━━━━━━━\u001b[0m \u001b[32m2.0/2.0 MB\u001b[0m \u001b[31m20.2 MB/s\u001b[0m eta \u001b[36m0:00:00\u001b[0m\n",
            "\u001b[?25hDownloading autoray-0.7.1-py3-none-any.whl (930 kB)\n",
            "\u001b[2K   \u001b[90m━━━━━━━━━━━━━━━━━━━━━━━━━━━━━━━━━━━━━━━━\u001b[0m \u001b[32m930.8/930.8 kB\u001b[0m \u001b[31m16.3 MB/s\u001b[0m eta \u001b[36m0:00:00\u001b[0m\n",
            "\u001b[?25hDownloading PennyLane_Lightning-0.40.0-cp311-cp311-manylinux_2_28_x86_64.whl (2.4 MB)\n",
            "\u001b[2K   \u001b[90m━━━━━━━━━━━━━━━━━━━━━━━━━━━━━━━━━━━━━━━━\u001b[0m \u001b[32m2.4/2.4 MB\u001b[0m \u001b[31m20.3 MB/s\u001b[0m eta \u001b[36m0:00:00\u001b[0m\n",
            "\u001b[?25hDownloading rustworkx-0.16.0-cp39-abi3-manylinux_2_17_x86_64.manylinux2014_x86_64.whl (2.1 MB)\n",
            "\u001b[2K   \u001b[90m━━━━━━━━━━━━━━━━━━━━━━━━━━━━━━━━━━━━━━━━\u001b[0m \u001b[32m2.1/2.1 MB\u001b[0m \u001b[31m40.3 MB/s\u001b[0m eta \u001b[36m0:00:00\u001b[0m\n",
            "\u001b[?25hDownloading appdirs-1.4.4-py2.py3-none-any.whl (9.6 kB)\n",
            "Downloading diastatic_malt-2.15.2-py3-none-any.whl (167 kB)\n",
            "\u001b[2K   \u001b[90m━━━━━━━━━━━━━━━━━━━━━━━━━━━━━━━━━━━━━━━━\u001b[0m \u001b[32m167.9/167.9 kB\u001b[0m \u001b[31m9.8 MB/s\u001b[0m eta \u001b[36m0:00:00\u001b[0m\n",
            "\u001b[?25hDownloading tomlkit-0.13.2-py3-none-any.whl (37 kB)\n",
            "Downloading scipy_openblas32-0.3.29.0.0-py3-none-manylinux_2_17_x86_64.manylinux2014_x86_64.whl (8.6 MB)\n",
            "\u001b[2K   \u001b[90m━━━━━━━━━━━━━━━━━━━━━━━━━━━━━━━━━━━━━━━━\u001b[0m \u001b[32m8.6/8.6 MB\u001b[0m \u001b[31m25.0 MB/s\u001b[0m eta \u001b[36m0:00:00\u001b[0m\n",
            "\u001b[?25hInstalling collected packages: appdirs, tomlkit, scipy-openblas32, rustworkx, autoray, diastatic-malt, pennylane-lightning, pennylane\n",
            "Successfully installed appdirs-1.4.4 autoray-0.7.1 diastatic-malt-2.15.2 pennylane-0.40.0 pennylane-lightning-0.40.0 rustworkx-0.16.0 scipy-openblas32-0.3.29.0.0 tomlkit-0.13.2\n"
          ]
        }
      ]
    },
    {
      "cell_type": "code",
      "source": [
        "# Convert to Torch tensor (Ensure float64 for compatibility with Pennylane)\n",
        "X_train_torch = torch.tensor(X_train, dtype=torch.float64)\n",
        "y_train_torch = torch.tensor(y_train, dtype=torch.float64)\n",
        "X_test_torch = torch.tensor(X_test, dtype=torch.float64)\n",
        "y_test_torch = torch.tensor(y_test, dtype=torch.float64)\n"
      ],
      "metadata": {
        "id": "hpm8FD-kXNJ9"
      },
      "execution_count": 5,
      "outputs": []
    },
    {
      "cell_type": "code",
      "source": [
        "import numpy as np\n",
        "import pennylane as qml\n",
        "import torch\n",
        "import torch.nn as nn\n",
        "import torch.optim as optim\n",
        "from sklearn.model_selection import train_test_split\n",
        "from sklearn.preprocessing import StandardScaler\n",
        "from sklearn.metrics import accuracy_score\n",
        "\n",
        "# Generate Z2 x Z2 symmetric dataset\n",
        "def generate_symmetric_data(n_samples=200):\n",
        "    x1 = np.random.uniform(-1, 1, n_samples // 4)\n",
        "    x2 = np.random.uniform(-1, 1, n_samples // 4)\n",
        "\n",
        "    data = []\n",
        "    labels = []\n",
        "\n",
        "    for xi, yi in zip(x1, x2):\n",
        "        base_point = np.array([xi, yi])\n",
        "        transformed_points = [\n",
        "            base_point,\n",
        "            [-xi, yi],\n",
        "            [xi, -yi],\n",
        "            [-xi, -yi]\n",
        "        ]\n",
        "        class_label = int(xi * yi > 0)\n",
        "\n",
        "        for point in transformed_points:\n",
        "            data.append(point)\n",
        "            labels.append(class_label)\n",
        "\n",
        "    return np.array(data), np.array(labels)\n",
        "\n",
        "# Prepare data\n",
        "data, labels = generate_symmetric_data()\n",
        "scaler = StandardScaler()\n",
        "data = scaler.fit_transform(data)\n",
        "X_train, X_test, y_train, y_test = train_test_split(data, labels, test_size=0.2, random_state=42)\n",
        "\n",
        "# Define quantum device\n",
        "dev = qml.device(\"default.qubit\", wires=2)\n",
        "\n",
        "def standard_qnn(weights, x):\n",
        "    qml.AngleEmbedding(x, wires=[0, 1])\n",
        "    qml.BasicEntanglerLayers(weights, wires=[0, 1])\n",
        "    return qml.expval(qml.PauliZ(0))\n",
        "\n",
        "@qml.qnode(dev, interface='torch')\n",
        "def equivariant_qnn(weights, x):\n",
        "    qml.RY(x[0], wires=0)\n",
        "    qml.RY(x[1], wires=1)\n",
        "    qml.CNOT(wires=[0, 1])\n",
        "    qml.RY(weights[0], wires=0)\n",
        "    qml.RY(weights[1], wires=1)\n",
        "    qml.CNOT(wires=[0, 1])\n",
        "    return qml.expval(qml.PauliZ(0))\n",
        "\n",
        "# Convert to Torch tensor (Ensure float64 for compatibility with Pennylane)\n",
        "# Convert to Torch tensor (Ensure float32 for compatibility with PyTorch)\n",
        "X_train_torch = torch.tensor(X_train, dtype=torch.float32)\n",
        "y_train_torch = torch.tensor(y_train, dtype=torch.float32)\n",
        "X_test_torch = torch.tensor(X_test, dtype=torch.float32)\n",
        "y_test_torch = torch.tensor(y_test, dtype=torch.float32)\n",
        "\n",
        "class QuantumModel(nn.Module):\n",
        "    def __init__(self, quantum_circuit, num_layers=1, num_qubits=2):\n",
        "        super().__init__()\n",
        "        # For the equivariant model, the shape should be (num_qubits,)\n",
        "        # as it has a single layer and expects a 1D tensor for weights.\n",
        "        if quantum_circuit == equivariant_qnn:  # Check if it's the equivariant model\n",
        "            self.q_weights = nn.Parameter(0.01 * torch.randn(num_qubits, dtype=torch.float32))  # Shape (num_qubits,)\n",
        "        else:\n",
        "            self.q_weights = nn.Parameter(0.01 * torch.randn(num_layers, num_qubits, dtype=torch.float32))  # Shape (num_layers, num_qubits)\n",
        "        self.q_circuit = quantum_circuit\n",
        "\n",
        "    def forward(self, x):\n",
        "        # Apply the quantum circuit to each data point in the batch\n",
        "        results = [self.q_circuit(self.q_weights, data_point) for data_point in x]\n",
        "        # Stack the results into a single tensor\n",
        "        output = torch.stack(results)\n",
        "        return torch.sigmoid(output).type(torch.float32)\n",
        "\n",
        "# Train and evaluate both models\n",
        "def train_model(qnn, X_train, y_train, X_test, y_test):\n",
        "    optimizer = optim.Adam(qnn.parameters(), lr=0.1)\n",
        "    loss_fn = nn.BCELoss()\n",
        "\n",
        "    for epoch in range(100):\n",
        "        optimizer.zero_grad()\n",
        "        y_pred = qnn(X_train).squeeze()\n",
        "        loss = loss_fn(y_pred, y_train)\n",
        "        loss.backward()\n",
        "        optimizer.step()\n",
        "\n",
        "    with torch.no_grad():\n",
        "        y_pred_test = qnn(X_test).squeeze().round()\n",
        "    acc = accuracy_score(y_test, y_pred_test.numpy())\n",
        "    return acc\n",
        "\n",
        "# Train standard QNN\n",
        "standard_model = QuantumModel(qml.qnode(dev)(standard_qnn), num_layers=1, num_qubits=2)\n",
        "acc_standard = train_model(standard_model, X_train_torch, y_train_torch, X_test_torch, y_test_torch)\n",
        "# Train equivariant QNN\n",
        "equivariant_model = QuantumModel(equivariant_qnn)\n",
        "acc_equivariant = train_model(equivariant_model, X_train_torch, y_train_torch, X_test_torch, y_test_torch)\n",
        "\n",
        "print(f\"Accuracy of Standard QNN: {acc_standard:.2f}\")\n",
        "print(f\"Accuracy of Equivariant QNN: {acc_equivariant:.2f}\")\n"
      ],
      "metadata": {
        "colab": {
          "base_uri": "https://localhost:8080/"
        },
        "id": "3FCt8pxKV_PR",
        "outputId": "c065949e-30da-4580-892d-e702d90b81da"
      },
      "execution_count": 18,
      "outputs": [
        {
          "output_type": "stream",
          "name": "stdout",
          "text": [
            "Accuracy of Standard QNN: 0.55\n",
            "Accuracy of Equivariant QNN: 0.45\n"
          ]
        }
      ]
    },
    {
      "cell_type": "code",
      "source": [],
      "metadata": {
        "id": "anWgzYk2WA5_"
      },
      "execution_count": null,
      "outputs": []
    }
  ]
}