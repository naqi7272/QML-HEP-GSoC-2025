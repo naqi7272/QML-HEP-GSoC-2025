{
  "nbformat": 4,
  "nbformat_minor": 0,
  "metadata": {
    "colab": {
      "provenance": []
    },
    "kernelspec": {
      "name": "python3",
      "display_name": "Python 3"
    },
    "language_info": {
      "name": "python"
    }
  },
  "cells": [
    {
      "cell_type": "code",
      "source": [
        "!pip install pennylane"
      ],
      "metadata": {
        "colab": {
          "base_uri": "https://localhost:8080/"
        },
        "id": "_Zeq4NgCG1HG",
        "outputId": "546f5aaf-add1-4c45-a9bb-1b44f5938b49"
      },
      "execution_count": 1,
      "outputs": [
        {
          "output_type": "stream",
          "name": "stdout",
          "text": [
            "Collecting pennylane\n",
            "  Downloading PennyLane-0.40.0-py3-none-any.whl.metadata (10 kB)\n",
            "Requirement already satisfied: numpy<2.1 in /usr/local/lib/python3.11/dist-packages (from pennylane) (2.0.2)\n",
            "Requirement already satisfied: scipy in /usr/local/lib/python3.11/dist-packages (from pennylane) (1.14.1)\n",
            "Requirement already satisfied: networkx in /usr/local/lib/python3.11/dist-packages (from pennylane) (3.4.2)\n",
            "Collecting rustworkx>=0.14.0 (from pennylane)\n",
            "  Downloading rustworkx-0.16.0-cp39-abi3-manylinux_2_17_x86_64.manylinux2014_x86_64.whl.metadata (10 kB)\n",
            "Requirement already satisfied: autograd in /usr/local/lib/python3.11/dist-packages (from pennylane) (1.7.0)\n",
            "Collecting tomlkit (from pennylane)\n",
            "  Downloading tomlkit-0.13.2-py3-none-any.whl.metadata (2.7 kB)\n",
            "Collecting appdirs (from pennylane)\n",
            "  Downloading appdirs-1.4.4-py2.py3-none-any.whl.metadata (9.0 kB)\n",
            "Collecting autoray>=0.6.11 (from pennylane)\n",
            "  Downloading autoray-0.7.1-py3-none-any.whl.metadata (5.8 kB)\n",
            "Requirement already satisfied: cachetools in /usr/local/lib/python3.11/dist-packages (from pennylane) (5.5.2)\n",
            "Collecting pennylane-lightning>=0.40 (from pennylane)\n",
            "  Downloading PennyLane_Lightning-0.40.0-cp311-cp311-manylinux_2_28_x86_64.whl.metadata (27 kB)\n",
            "Requirement already satisfied: requests in /usr/local/lib/python3.11/dist-packages (from pennylane) (2.32.3)\n",
            "Requirement already satisfied: typing-extensions in /usr/local/lib/python3.11/dist-packages (from pennylane) (4.13.0)\n",
            "Requirement already satisfied: packaging in /usr/local/lib/python3.11/dist-packages (from pennylane) (24.2)\n",
            "Collecting diastatic-malt (from pennylane)\n",
            "  Downloading diastatic_malt-2.15.2-py3-none-any.whl.metadata (2.6 kB)\n",
            "Collecting scipy-openblas32>=0.3.26 (from pennylane-lightning>=0.40->pennylane)\n",
            "  Downloading scipy_openblas32-0.3.29.0.0-py3-none-manylinux_2_17_x86_64.manylinux2014_x86_64.whl.metadata (56 kB)\n",
            "\u001b[2K     \u001b[90m━━━━━━━━━━━━━━━━━━━━━━━━━━━━━━━━━━━━━━━━\u001b[0m \u001b[32m56.1/56.1 kB\u001b[0m \u001b[31m1.7 MB/s\u001b[0m eta \u001b[36m0:00:00\u001b[0m\n",
            "\u001b[?25hRequirement already satisfied: astunparse in /usr/local/lib/python3.11/dist-packages (from diastatic-malt->pennylane) (1.6.3)\n",
            "Requirement already satisfied: gast in /usr/local/lib/python3.11/dist-packages (from diastatic-malt->pennylane) (0.6.0)\n",
            "Requirement already satisfied: termcolor in /usr/local/lib/python3.11/dist-packages (from diastatic-malt->pennylane) (2.5.0)\n",
            "Requirement already satisfied: charset-normalizer<4,>=2 in /usr/local/lib/python3.11/dist-packages (from requests->pennylane) (3.4.1)\n",
            "Requirement already satisfied: idna<4,>=2.5 in /usr/local/lib/python3.11/dist-packages (from requests->pennylane) (3.10)\n",
            "Requirement already satisfied: urllib3<3,>=1.21.1 in /usr/local/lib/python3.11/dist-packages (from requests->pennylane) (2.3.0)\n",
            "Requirement already satisfied: certifi>=2017.4.17 in /usr/local/lib/python3.11/dist-packages (from requests->pennylane) (2025.1.31)\n",
            "Requirement already satisfied: wheel<1.0,>=0.23.0 in /usr/local/lib/python3.11/dist-packages (from astunparse->diastatic-malt->pennylane) (0.45.1)\n",
            "Requirement already satisfied: six<2.0,>=1.6.1 in /usr/local/lib/python3.11/dist-packages (from astunparse->diastatic-malt->pennylane) (1.17.0)\n",
            "Downloading PennyLane-0.40.0-py3-none-any.whl (2.0 MB)\n",
            "\u001b[2K   \u001b[90m━━━━━━━━━━━━━━━━━━━━━━━━━━━━━━━━━━━━━━━━\u001b[0m \u001b[32m2.0/2.0 MB\u001b[0m \u001b[31m20.7 MB/s\u001b[0m eta \u001b[36m0:00:00\u001b[0m\n",
            "\u001b[?25hDownloading autoray-0.7.1-py3-none-any.whl (930 kB)\n",
            "\u001b[2K   \u001b[90m━━━━━━━━━━━━━━━━━━━━━━━━━━━━━━━━━━━━━━━━\u001b[0m \u001b[32m930.8/930.8 kB\u001b[0m \u001b[31m18.5 MB/s\u001b[0m eta \u001b[36m0:00:00\u001b[0m\n",
            "\u001b[?25hDownloading PennyLane_Lightning-0.40.0-cp311-cp311-manylinux_2_28_x86_64.whl (2.4 MB)\n",
            "\u001b[2K   \u001b[90m━━━━━━━━━━━━━━━━━━━━━━━━━━━━━━━━━━━━━━━━\u001b[0m \u001b[32m2.4/2.4 MB\u001b[0m \u001b[31m28.2 MB/s\u001b[0m eta \u001b[36m0:00:00\u001b[0m\n",
            "\u001b[?25hDownloading rustworkx-0.16.0-cp39-abi3-manylinux_2_17_x86_64.manylinux2014_x86_64.whl (2.1 MB)\n",
            "\u001b[2K   \u001b[90m━━━━━━━━━━━━━━━━━━━━━━━━━━━━━━━━━━━━━━━━\u001b[0m \u001b[32m2.1/2.1 MB\u001b[0m \u001b[31m21.3 MB/s\u001b[0m eta \u001b[36m0:00:00\u001b[0m\n",
            "\u001b[?25hDownloading appdirs-1.4.4-py2.py3-none-any.whl (9.6 kB)\n",
            "Downloading diastatic_malt-2.15.2-py3-none-any.whl (167 kB)\n",
            "\u001b[2K   \u001b[90m━━━━━━━━━━━━━━━━━━━━━━━━━━━━━━━━━━━━━━━━\u001b[0m \u001b[32m167.9/167.9 kB\u001b[0m \u001b[31m12.7 MB/s\u001b[0m eta \u001b[36m0:00:00\u001b[0m\n",
            "\u001b[?25hDownloading tomlkit-0.13.2-py3-none-any.whl (37 kB)\n",
            "Downloading scipy_openblas32-0.3.29.0.0-py3-none-manylinux_2_17_x86_64.manylinux2014_x86_64.whl (8.6 MB)\n",
            "\u001b[2K   \u001b[90m━━━━━━━━━━━━━━━━━━━━━━━━━━━━━━━━━━━━━━━━\u001b[0m \u001b[32m8.6/8.6 MB\u001b[0m \u001b[31m28.0 MB/s\u001b[0m eta \u001b[36m0:00:00\u001b[0m\n",
            "\u001b[?25hInstalling collected packages: appdirs, tomlkit, scipy-openblas32, rustworkx, autoray, diastatic-malt, pennylane-lightning, pennylane\n",
            "Successfully installed appdirs-1.4.4 autoray-0.7.1 diastatic-malt-2.15.2 pennylane-0.40.0 pennylane-lightning-0.40.0 rustworkx-0.16.0 scipy-openblas32-0.3.29.0.0 tomlkit-0.13.2\n"
          ]
        }
      ]
    },
    {
      "cell_type": "code",
      "execution_count": 2,
      "metadata": {
        "id": "MW2PONNsFqm5"
      },
      "outputs": [],
      "source": [
        "import numpy as np\n",
        "import torch\n",
        "from torch.utils.data import DataLoader\n",
        "from torchvision import datasets, transforms\n",
        "import pennylane as qml\n",
        "from pennylane import numpy as qnp\n"
      ]
    },
    {
      "cell_type": "code",
      "source": [
        "transform = transforms.Compose([transforms.ToTensor(), transforms.Lambda(lambda x: x.view(-1))])\n",
        "\n",
        "train_data = datasets.MNIST(root='./data', train=True, download=True, transform=transform)\n",
        "test_data = datasets.MNIST(root='./data', train=False, download=True, transform=transform)\n",
        "\n",
        "train_loader = DataLoader(train_data, batch_size=64, shuffle=True)\n",
        "test_loader = DataLoader(test_data, batch_size=64, shuffle=False)\n",
        "\n"
      ],
      "metadata": {
        "colab": {
          "base_uri": "https://localhost:8080/"
        },
        "id": "ZY46z1uWFv2j",
        "outputId": "36475c61-758b-4a9e-e561-88ce715f1f43"
      },
      "execution_count": 3,
      "outputs": [
        {
          "output_type": "stream",
          "name": "stderr",
          "text": [
            "100%|██████████| 9.91M/9.91M [00:00<00:00, 229MB/s]\n",
            "100%|██████████| 28.9k/28.9k [00:00<00:00, 17.4MB/s]\n",
            "100%|██████████| 1.65M/1.65M [00:00<00:00, 34.8MB/s]\n",
            "100%|██████████| 4.54k/4.54k [00:00<00:00, 3.16MB/s]\n"
          ]
        }
      ]
    },
    {
      "cell_type": "code",
      "source": [
        "num_qubits = 8\n",
        "dev = qml.device(\"default.qubit\", wires=num_qubits)\n",
        "\n",
        "def prepare_quantum_state(image, weights):\n",
        "    image = qnp.array(image, dtype=np.float32)\n",
        "    weights = qnp.array(weights, dtype=np.float32)\n",
        "    for i in range(num_qubits):\n",
        "        angle = image[i] % (2 * np.pi)\n",
        "        qml.RY(angle, wires=i)\n",
        "\n",
        "    for i in range(0, len(weights), 2):\n",
        "        qml.RZ(weights[i], wires=i % num_qubits)\n",
        "\n",
        "@qml.qnode(dev)\n",
        "def swap_test(image1, image2, weights):\n",
        "    prepare_quantum_state(image1, weights)\n",
        "    prepare_quantum_state(image2, weights)\n",
        "\n",
        "    qml.Hadamard(wires=0)\n",
        "    qml.CSWAP(wires=[0, 1, 2])\n",
        "    return qml.expval(qml.PauliZ(0))\n"
      ],
      "metadata": {
        "id": "ERBuz2fSF2oI"
      },
      "execution_count": 4,
      "outputs": []
    },
    {
      "cell_type": "code",
      "source": [
        "def contrastive_loss(fidelity, label1, label2, margin=0.5):\n",
        "    if label1 == label2:\n",
        "        return (1 - fidelity)**2\n",
        "    else:\n",
        "        return qnp.array(max(0, fidelity)**2, dtype=float)"
      ],
      "metadata": {
        "id": "7hL1_tSaF7ah"
      },
      "execution_count": 5,
      "outputs": []
    },
    {
      "cell_type": "code",
      "source": [
        "def train_qnn_with_negative_pairs(model, train_loader, num_epochs=10, learning_rate=0.01):\n",
        "    opt = qml.AdamOptimizer(learning_rate)\n",
        "    weights = qnp.random.uniform(-np.pi, np.pi, num_qubits, requires_grad=True)  # Use qml.numpy for weights\n",
        "\n",
        "    for epoch in range(num_epochs):\n",
        "        total_loss = 0\n",
        "        for batch_idx, (data, target) in enumerate(train_loader):\n",
        "            idx1 = np.random.randint(0, data.size(0))\n",
        "            idx2 = np.random.randint(0, data.size(0))\n",
        "\n",
        "            image1 = data[idx1].squeeze(0).numpy()\n",
        "            image2 = data[idx2].squeeze(0).numpy()\n",
        "\n",
        "            label1 = target[idx1].item()\n",
        "            label2 = target[idx2].item()\n",
        "\n",
        "            image1 = np.array(image1, dtype=np.float32)\n",
        "            image2 = np.array(image2, dtype=np.float32)\n",
        "\n",
        "            # loss function\n",
        "            def loss_fn(weights):\n",
        "                fidelity = swap_test(image1, image2, weights)\n",
        "                loss = contrastive_loss(fidelity, label1, label2)\n",
        "                return loss\n",
        "\n",
        "            weights = opt.step(loss_fn, weights)\n",
        "            total_loss += loss_fn(weights)\n",
        "\n",
        "        print(f\"Epoch {epoch+1}, Loss: {total_loss/len(train_loader)}\")\n",
        "    return weights\n",
        "\n"
      ],
      "metadata": {
        "id": "mVSC9JlRGAc6"
      },
      "execution_count": 6,
      "outputs": []
    },
    {
      "cell_type": "code",
      "source": [
        "def evaluate_qnn(model, test_loader, weights):\n",
        "    correct = 0\n",
        "    total = 0\n",
        "    for data, target in test_loader:\n",
        "        image1 = data[0].squeeze(0).numpy()\n",
        "        image2 = data[1].squeeze(0).numpy()\n",
        "\n",
        "        label1 = target[0].item()\n",
        "        label2 = target[1].item()\n",
        "\n",
        "        image1 = np.array(image1, dtype=np.float32)\n",
        "        image2 = np.array(image2, dtype=np.float32)\n",
        "\n",
        "        fidelity = swap_test(image1, image2, weights)\n",
        "\n",
        "        prediction = 1 if fidelity > 0.5 else 0\n",
        "        if prediction == (label1 == label2):\n",
        "            correct += 1\n",
        "        total += 1\n",
        "\n",
        "    accuracy = correct / total\n",
        "    print(f\"Accuracy on the test set: {accuracy * 100:.2f}%\")\n"
      ],
      "metadata": {
        "id": "vukgQTyKGI6g"
      },
      "execution_count": 7,
      "outputs": []
    },
    {
      "cell_type": "code",
      "source": [
        "weights = train_qnn_with_negative_pairs(swap_test, train_loader, num_epochs=10, learning_rate=0.01)\n",
        "\n",
        "# Evaluate\n",
        "evaluate_qnn(swap_test, test_loader, weights)\n"
      ],
      "metadata": {
        "colab": {
          "base_uri": "https://localhost:8080/"
        },
        "id": "9wY_dSuCGOD2",
        "outputId": "af55c6e2-1699-4f48-d98e-fec9e1d6e4af"
      },
      "execution_count": 8,
      "outputs": [
        {
          "output_type": "stream",
          "name": "stderr",
          "text": [
            "/usr/local/lib/python3.11/dist-packages/autograd/tracer.py:14: UserWarning: Output seems independent of input.\n",
            "  warnings.warn(\"Output seems independent of input.\")\n"
          ]
        },
        {
          "output_type": "stream",
          "name": "stdout",
          "text": [
            "Epoch 1, Loss: 0.10980810234541578\n",
            "Epoch 2, Loss: 0.10767590618336886\n",
            "Epoch 3, Loss: 0.1162046908315565\n",
            "Epoch 4, Loss: 0.11940298507462686\n",
            "Epoch 5, Loss: 0.11300639658848614\n",
            "Epoch 6, Loss: 0.1140724946695096\n",
            "Epoch 7, Loss: 0.09914712153518124\n",
            "Epoch 8, Loss: 0.11833688699360341\n",
            "Epoch 9, Loss: 0.11940298507462686\n",
            "Epoch 10, Loss: 0.1257995735607676\n",
            "Accuracy on the test set: 92.36%\n"
          ]
        }
      ]
    }
  ]
}